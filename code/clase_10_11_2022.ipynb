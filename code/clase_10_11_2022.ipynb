{
 "cells": [
  {
   "cell_type": "markdown",
   "id": "274c859e",
   "metadata": {},
   "source": [
    "### Vamos a crear un script que suba de forma automática los datos"
   ]
  },
  {
   "cell_type": "code",
   "execution_count": 18,
   "id": "f02de7f0",
   "metadata": {},
   "outputs": [],
   "source": [
    "import pandas as pd  # transformar y leer excel como tabla (dataframe)\n",
    "import re # regular expressions, expresiones regulares para trabajar texto\n",
    "import mysql.connector as maria # conectarnos a la base de datos MariaDB"
   ]
  },
  {
   "cell_type": "code",
   "execution_count": 19,
   "id": "4e06e770",
   "metadata": {},
   "outputs": [],
   "source": [
    "dataframe = pd.read_excel('datos/datos_proveedores.xlsx',\n",
    "                          sheet_name='Alimentacion',skiprows=1)"
   ]
  },
  {
   "cell_type": "code",
   "execution_count": 20,
   "id": "22e49272",
   "metadata": {},
   "outputs": [
    {
     "data": {
      "text/html": [
       "<div>\n",
       "<style scoped>\n",
       "    .dataframe tbody tr th:only-of-type {\n",
       "        vertical-align: middle;\n",
       "    }\n",
       "\n",
       "    .dataframe tbody tr th {\n",
       "        vertical-align: top;\n",
       "    }\n",
       "\n",
       "    .dataframe thead th {\n",
       "        text-align: right;\n",
       "    }\n",
       "</style>\n",
       "<table border=\"1\" class=\"dataframe\">\n",
       "  <thead>\n",
       "    <tr style=\"text-align: right;\">\n",
       "      <th></th>\n",
       "      <th>N°</th>\n",
       "      <th>Id Articulo</th>\n",
       "      <th>Descripción</th>\n",
       "      <th>SubCategoria</th>\n",
       "      <th>Nombre Categoria</th>\n",
       "      <th>Id Proveedor</th>\n",
       "      <th>Nombre Proveedor</th>\n",
       "      <th>Moneda</th>\n",
       "      <th>Precio</th>\n",
       "      <th>Monto/Cantidad Minima</th>\n",
       "      <th>Tiempo de Entrega</th>\n",
       "      <th>Fecha de vencimiento</th>\n",
       "      <th>ZONA</th>\n",
       "    </tr>\n",
       "  </thead>\n",
       "  <tbody>\n",
       "    <tr>\n",
       "      <th>0</th>\n",
       "      <td>1</td>\n",
       "      <td>UDLA_ALMUERZO_0001</td>\n",
       "      <td>Almuerzo 1 pechuga pavo o pollo,mix ensaladas,...</td>\n",
       "      <td>S030805</td>\n",
       "      <td>Servicios de comida y bebida para empleados</td>\n",
       "      <td>76961994-1</td>\n",
       "      <td>CAMASI SPA</td>\n",
       "      <td>CLP</td>\n",
       "      <td>4500</td>\n",
       "      <td>35000</td>\n",
       "      <td>2</td>\n",
       "      <td>2023-04-05</td>\n",
       "      <td>Viña</td>\n",
       "    </tr>\n",
       "  </tbody>\n",
       "</table>\n",
       "</div>"
      ],
      "text/plain": [
       "   N°         Id Articulo                                        Descripción  \\\n",
       "0   1  UDLA_ALMUERZO_0001  Almuerzo 1 pechuga pavo o pollo,mix ensaladas,...   \n",
       "\n",
       "  SubCategoria                             Nombre Categoria Id Proveedor  \\\n",
       "0      S030805  Servicios de comida y bebida para empleados   76961994-1   \n",
       "\n",
       "  Nombre Proveedor Moneda  Precio  Monto/Cantidad Minima  Tiempo de Entrega  \\\n",
       "0       CAMASI SPA    CLP    4500                  35000                  2   \n",
       "\n",
       "  Fecha de vencimiento  ZONA  \n",
       "0           2023-04-05  Viña  "
      ]
     },
     "execution_count": 20,
     "metadata": {},
     "output_type": "execute_result"
    }
   ],
   "source": [
    "dataframe.head(1)"
   ]
  },
  {
   "cell_type": "markdown",
   "id": "ac0d1e32",
   "metadata": {},
   "source": [
    "dataframe.describe()"
   ]
  },
  {
   "cell_type": "markdown",
   "id": "54fbc3d0",
   "metadata": {},
   "source": [
    "dataframe.dtypes"
   ]
  },
  {
   "cell_type": "markdown",
   "id": "f35383cf",
   "metadata": {},
   "source": [
    "dataframe.columns"
   ]
  },
  {
   "cell_type": "markdown",
   "id": "2eaa514c",
   "metadata": {},
   "source": [
    "dataframe.columns[:13]"
   ]
  },
  {
   "cell_type": "code",
   "execution_count": 3,
   "id": "c43b3ad1",
   "metadata": {},
   "outputs": [],
   "source": [
    "conexion = maria.connect(user='root', \n",
    "                         password='aci253udla', \n",
    "                         host='localhost', \n",
    "                         database='proveedores', \n",
    "                         port='3306')"
   ]
  },
  {
   "cell_type": "code",
   "execution_count": 21,
   "id": "54a924dc",
   "metadata": {},
   "outputs": [
    {
     "data": {
      "text/plain": [
       "0               Viña\n",
       "1               Viña\n",
       "2               Viña\n",
       "3               Viña\n",
       "4               Viña\n",
       "           ...      \n",
       "149    Viña del Mar \n",
       "150    Viña del Mar \n",
       "151    Viña del Mar \n",
       "152    Viña del Mar \n",
       "153    Viña del Mar \n",
       "Name: ZONA, Length: 154, dtype: object"
      ]
     },
     "execution_count": 21,
     "metadata": {},
     "output_type": "execute_result"
    }
   ],
   "source": [
    "dataframe['ZONA']"
   ]
  },
  {
   "cell_type": "code",
   "execution_count": 22,
   "id": "299baa74",
   "metadata": {},
   "outputs": [
    {
     "data": {
      "text/plain": [
       "array(['Viña', 'Concepcion ', 'Santiago ', 'Santiago', 'Viña del Mar '],\n",
       "      dtype=object)"
      ]
     },
     "execution_count": 22,
     "metadata": {},
     "output_type": "execute_result"
    }
   ],
   "source": [
    "dataframe['ZONA'].unique()"
   ]
  },
  {
   "cell_type": "markdown",
   "id": "74d8aa8a",
   "metadata": {},
   "source": [
    "id_zona=0;\n",
    "for ciudad in dataframe['ZONA'].unique():\n",
    "    id_zona+=1\n",
    "    print(id_zona,ciudad)"
   ]
  },
  {
   "cell_type": "markdown",
   "id": "0e7ff334",
   "metadata": {},
   "source": [
    "for ciudad in dataframe['ZONA']:\n",
    "    if ciudad == 'Viña':\n",
    "        ciudad = 'Viña del Mar'\n",
    "    st=re.sub(r\"\\s+$\", \"\", ciudad);\n",
    "    print(ciudad,st)"
   ]
  },
  {
   "cell_type": "code",
   "execution_count": 24,
   "id": "36643504",
   "metadata": {},
   "outputs": [],
   "source": [
    "dataframe['ZONA'].replace(to_replace='Viña', \n",
    "                          value='Viña del Mar',inplace=True)"
   ]
  },
  {
   "cell_type": "code",
   "execution_count": 25,
   "id": "2c8fadd0",
   "metadata": {},
   "outputs": [],
   "source": [
    "dataframe['ZONA'].replace(to_replace='Santiago ',\n",
    "                          value='Santiago', inplace=True)"
   ]
  },
  {
   "cell_type": "code",
   "execution_count": 26,
   "id": "51f5b3ce",
   "metadata": {},
   "outputs": [],
   "source": [
    "dataframe['ZONA'].replace(to_replace='Viña del Mar ',\n",
    "                          value='Viña del Mar', inplace=True)"
   ]
  },
  {
   "cell_type": "code",
   "execution_count": 27,
   "id": "8c494a3b",
   "metadata": {},
   "outputs": [],
   "source": [
    "dataframe['ZONA'].replace(to_replace='Concepcion ',\n",
    "                          value='Concepcion', inplace=True)"
   ]
  },
  {
   "cell_type": "code",
   "execution_count": 28,
   "id": "65b7cf51",
   "metadata": {},
   "outputs": [],
   "source": [
    "agregar_zona =(\"INSERT INTO zona \"\"(id,nombre)\"\" VALUES (%s,%s)\")"
   ]
  },
  {
   "cell_type": "code",
   "execution_count": 29,
   "id": "64887e68",
   "metadata": {},
   "outputs": [
    {
     "name": "stdout",
     "output_type": "stream",
     "text": [
      "INSERT INTO zona (id,nombre) VALUES (%s,%s)\n"
     ]
    }
   ],
   "source": [
    "print(agregar_zona)"
   ]
  },
  {
   "cell_type": "markdown",
   "id": "b32413e3",
   "metadata": {},
   "source": [
    "#### Creamos buffer para la conexión con la base de datos"
   ]
  },
  {
   "cell_type": "code",
   "execution_count": 11,
   "id": "b243777c",
   "metadata": {},
   "outputs": [],
   "source": [
    "buffer = conexion.cursor(buffered=True)"
   ]
  },
  {
   "cell_type": "code",
   "execution_count": 30,
   "id": "c8660c3d",
   "metadata": {},
   "outputs": [
    {
     "name": "stdout",
     "output_type": "stream",
     "text": [
      "(1, 'Viña del Mar')\n",
      "(2, 'Concepcion')\n",
      "(3, 'Santiago')\n"
     ]
    }
   ],
   "source": [
    "idzona=1\n",
    "for zona in dataframe['ZONA'].unique():\n",
    "    value_insert=(idzona,zona)\n",
    "    print(value_insert)\n",
    "    buffer.execute(agregar_zona,value_insert)\n",
    "    idzona+=1;\n"
   ]
  },
  {
   "cell_type": "code",
   "execution_count": null,
   "id": "0e4362f3",
   "metadata": {},
   "outputs": [],
   "source": [
    "conexion.commit()"
   ]
  },
  {
   "cell_type": "code",
   "execution_count": null,
   "id": "d16d7fa3",
   "metadata": {},
   "outputs": [],
   "source": [
    "columnas_proveedor=['Id Proveedor','Nombre Proveedor']"
   ]
  },
  {
   "cell_type": "code",
   "execution_count": null,
   "id": "f6494953",
   "metadata": {},
   "outputs": [],
   "source": [
    "dfproveedor=dataframe[columnas_proveedor]"
   ]
  },
  {
   "cell_type": "code",
   "execution_count": null,
   "id": "423cc3b7",
   "metadata": {
    "scrolled": true
   },
   "outputs": [],
   "source": [
    "dfproveedor.drop_duplicates(inplace=True)"
   ]
  },
  {
   "cell_type": "code",
   "execution_count": null,
   "id": "4d467fe9",
   "metadata": {},
   "outputs": [],
   "source": [
    "dfproveedor"
   ]
  },
  {
   "cell_type": "code",
   "execution_count": null,
   "id": "5628d5b6",
   "metadata": {},
   "outputs": [],
   "source": [
    "dfproveedor"
   ]
  },
  {
   "cell_type": "code",
   "execution_count": null,
   "id": "187d3d7c",
   "metadata": {},
   "outputs": [],
   "source": [
    "agregar_proveedores =(\"INSERT INTO proveedor \"\"(id,rut,nombre)\"\" VALUES (%s,%s,%s)\")"
   ]
  },
  {
   "cell_type": "code",
   "execution_count": null,
   "id": "7c52ef43",
   "metadata": {},
   "outputs": [],
   "source": [
    "idproveedor=1\n",
    "for proveedor in dfproveedor.values:\n",
    "    prov_insert=(idproveedor,proveedor[0],proveedor[1])\n",
    "    print(prov_insert)\n",
    "    buffer.execute(agregar_proveedores,prov_insert)\n",
    "    idproveedor+=1\n"
   ]
  },
  {
   "cell_type": "code",
   "execution_count": null,
   "id": "1e10649c",
   "metadata": {},
   "outputs": [],
   "source": [
    "dataframe.columns"
   ]
  },
  {
   "cell_type": "code",
   "execution_count": null,
   "id": "512d4eb2",
   "metadata": {},
   "outputs": [],
   "source": [
    "cols=['Id Proveedor','Fecha de vencimiento','ZONA']"
   ]
  },
  {
   "cell_type": "code",
   "execution_count": null,
   "id": "cc2787b4",
   "metadata": {},
   "outputs": [],
   "source": [
    "dataframe[cols].drop_duplicates()"
   ]
  },
  {
   "cell_type": "code",
   "execution_count": null,
   "id": "a0f1c102",
   "metadata": {},
   "outputs": [],
   "source": [
    "seleccionar_proveedorID =(\"SELECT id FROM proveedor WHERE rut=\"\"(%s)\"\"\")\n",
    "seleccionar_zonaID=(\"SELECT id FROM zona WHERE nombre=\"\"(%s)\"\"\")"
   ]
  },
  {
   "cell_type": "code",
   "execution_count": null,
   "id": "75fcd460",
   "metadata": {},
   "outputs": [],
   "source": [
    "agregar_zona_proveedores =(\"INSERT INTO zona_proveedor \"\"(id,proveedorID,zonaID,vencimiento)\"\" VALUES (%s,%s,%s,%s)\")"
   ]
  },
  {
   "cell_type": "code",
   "execution_count": null,
   "id": "be01d0f1",
   "metadata": {},
   "outputs": [],
   "source": [
    "zona_proveedorID=1;\n",
    "for proveedor in dataframe[cols].drop_duplicates().values:\n",
    "    prov_rut=(proveedor[0])\n",
    "    zona_nombre=(proveedor[2])\n",
    "    #print(type(prov_rut))\n",
    "    #print(prov_rut)\n",
    "    buffer.execute(seleccionar_proveedorID,[prov_rut])\n",
    "    pID=buffer.fetchone()\n",
    "    buffer.execute(seleccionar_zonaID,[zona_nombre])\n",
    "    zID=buffer.fetchone()\n",
    "    valores_zp=(zona_proveedorID,pID[0],zID[0],proveedor[1])\n",
    "    buffer.execute(agregar_zona_proveedores,valores_zp)\n",
    "    zona_proveedorID+=1;"
   ]
  },
  {
   "cell_type": "code",
   "execution_count": null,
   "id": "5a7c79de",
   "metadata": {},
   "outputs": [],
   "source": [
    "conexion.commit()"
   ]
  },
  {
   "cell_type": "code",
   "execution_count": null,
   "id": "94e807bd",
   "metadata": {},
   "outputs": [],
   "source": [
    "agregar_categoria =(\"INSERT INTO categoria \"\"(id,proveedorID,nombre)\"\" VALUES (%s,%s,%s)\")"
   ]
  },
  {
   "cell_type": "code",
   "execution_count": null,
   "id": "d85bfa2d",
   "metadata": {},
   "outputs": [],
   "source": [
    "categoriaID=1;\n",
    "for categoria in dataframe[['Nombre Categoria','Id Proveedor']].drop_duplicates().values:\n",
    "    prov_rut=(categoria[1])\n",
    "    categoria_nombre=(categoria[0])\n",
    "    #print(type(prov_rut))\n",
    "    #print(prov_rut)\n",
    "    buffer.execute(seleccionar_proveedorID,[prov_rut])\n",
    "    pID=buffer.fetchone()\n",
    "    valores_cat=(categoriaID,pID[0],categoria_nombre)\n",
    "    buffer.execute(agregar_categoria,valores_cat)\n",
    "    categoriaID+=1;"
   ]
  },
  {
   "cell_type": "code",
   "execution_count": null,
   "id": "910b8d5c",
   "metadata": {},
   "outputs": [],
   "source": []
  },
  {
   "cell_type": "code",
   "execution_count": null,
   "id": "b666f1b4",
   "metadata": {},
   "outputs": [],
   "source": []
  },
  {
   "cell_type": "code",
   "execution_count": null,
   "id": "eda42c99",
   "metadata": {},
   "outputs": [],
   "source": [
    "\n",
    "buffer.close()\n",
    "conexion.close()"
   ]
  },
  {
   "cell_type": "code",
   "execution_count": null,
   "id": "6b0fb2c5",
   "metadata": {},
   "outputs": [],
   "source": [
    "dataframe.columns"
   ]
  },
  {
   "cell_type": "code",
   "execution_count": null,
   "id": "ff6cb80d",
   "metadata": {},
   "outputs": [],
   "source": []
  },
  {
   "cell_type": "code",
   "execution_count": null,
   "id": "ea9ca482",
   "metadata": {},
   "outputs": [],
   "source": []
  },
  {
   "cell_type": "code",
   "execution_count": null,
   "id": "a7592dc4",
   "metadata": {},
   "outputs": [],
   "source": []
  }
 ],
 "metadata": {
  "kernelspec": {
   "display_name": "Python 3 (ipykernel)",
   "language": "python",
   "name": "python3"
  },
  "language_info": {
   "codemirror_mode": {
    "name": "ipython",
    "version": 3
   },
   "file_extension": ".py",
   "mimetype": "text/x-python",
   "name": "python",
   "nbconvert_exporter": "python",
   "pygments_lexer": "ipython3",
   "version": "3.9.12"
  }
 },
 "nbformat": 4,
 "nbformat_minor": 5
}
