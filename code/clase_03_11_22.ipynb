{
 "cells": [
  {
   "cell_type": "markdown",
   "id": "274c859e",
   "metadata": {},
   "source": [
    "### Vamos a crear un script que me suba de forma automática los datos"
   ]
  },
  {
   "cell_type": "code",
   "execution_count": null,
   "id": "f02de7f0",
   "metadata": {},
   "outputs": [],
   "source": [
    "import pandas as pd  # transformar y leer excel como tabla (dataframe)\n",
    "import re # regular expressions, expresiones regulares para trabajar texto\n",
    "import mysql.connector as maria # conectarnos a la base de datos MariaDB"
   ]
  },
  {
   "cell_type": "code",
   "execution_count": null,
   "id": "4e06e770",
   "metadata": {},
   "outputs": [],
   "source": [
    "dataframe = pd.read_excel('datos/datos_proveedores.xlsx',sheet_name='Alimentacion',skiprows=1)"
   ]
  },
  {
   "cell_type": "code",
   "execution_count": null,
   "id": "49edf889",
   "metadata": {},
   "outputs": [],
   "source": [
    "dataframe.head(15)"
   ]
  },
  {
   "cell_type": "code",
   "execution_count": null,
   "id": "7f8b1190",
   "metadata": {},
   "outputs": [],
   "source": [
    "dataframe.describe()"
   ]
  },
  {
   "cell_type": "code",
   "execution_count": null,
   "id": "6182dcc4",
   "metadata": {},
   "outputs": [],
   "source": [
    "dataframe.dtypes"
   ]
  },
  {
   "cell_type": "code",
   "execution_count": null,
   "id": "97bfcf54",
   "metadata": {},
   "outputs": [],
   "source": [
    "dataframe.columns"
   ]
  },
  {
   "cell_type": "code",
   "execution_count": null,
   "id": "8a27feac",
   "metadata": {},
   "outputs": [],
   "source": [
    "dataframe.columns[:13]"
   ]
  },
  {
   "cell_type": "code",
   "execution_count": null,
   "id": "c43b3ad1",
   "metadata": {},
   "outputs": [],
   "source": [
    "conexion = maria.connect(user='root', password='aci253udla', host='localhost', database='proveedores', port='3306')"
   ]
  },
  {
   "cell_type": "code",
   "execution_count": null,
   "id": "ede5474a",
   "metadata": {},
   "outputs": [],
   "source": []
  },
  {
   "cell_type": "code",
   "execution_count": null,
   "id": "ae02f13d",
   "metadata": {},
   "outputs": [],
   "source": [
    "dataframe['ZONA']"
   ]
  },
  {
   "cell_type": "code",
   "execution_count": null,
   "id": "fed38077",
   "metadata": {},
   "outputs": [],
   "source": [
    "dataframe['ZONA'].unique()"
   ]
  },
  {
   "cell_type": "code",
   "execution_count": null,
   "id": "cd46c3ac",
   "metadata": {},
   "outputs": [],
   "source": [
    "id_zona=0;\n",
    "for ciudad in dataframe['ZONA'].unique():\n",
    "    id_zona+=1\n",
    "    print(id_zona,ciudad)"
   ]
  },
  {
   "cell_type": "code",
   "execution_count": null,
   "id": "730db777",
   "metadata": {},
   "outputs": [],
   "source": [
    "for ciudad in dataframe['ZONA']:\n",
    "    if ciudad == 'Viña':\n",
    "        ciudad = 'Viña del Mar'\n",
    "    st=re.sub(r\"\\s+$\", \"\", ciudad);\n",
    "    print(ciudad,st)"
   ]
  },
  {
   "cell_type": "code",
   "execution_count": null,
   "id": "36643504",
   "metadata": {},
   "outputs": [],
   "source": [
    "dataframe['ZONA'].replace(to_replace='Viña', value='Viña del Mar',inplace=True)"
   ]
  },
  {
   "cell_type": "code",
   "execution_count": null,
   "id": "0ef3344f",
   "metadata": {},
   "outputs": [],
   "source": [
    "dataframe['ZONA']"
   ]
  },
  {
   "cell_type": "code",
   "execution_count": null,
   "id": "2c8fadd0",
   "metadata": {},
   "outputs": [],
   "source": [
    "dataframe['ZONA'].replace(to_replace='Santiago ',value='Santiago', inplace=True)"
   ]
  },
  {
   "cell_type": "code",
   "execution_count": null,
   "id": "51f5b3ce",
   "metadata": {},
   "outputs": [],
   "source": [
    "dataframe['ZONA'].replace(to_replace='Viña del Mar ',value='Viña del Mar', inplace=True)"
   ]
  },
  {
   "cell_type": "code",
   "execution_count": null,
   "id": "3112ec20",
   "metadata": {},
   "outputs": [],
   "source": [
    "dataframe['ZONA'].unique()"
   ]
  },
  {
   "cell_type": "code",
   "execution_count": null,
   "id": "8c494a3b",
   "metadata": {},
   "outputs": [],
   "source": [
    "dataframe['ZONA'].replace(to_replace='Concepcion ',value='Concepcion', inplace=True)"
   ]
  },
  {
   "cell_type": "code",
   "execution_count": null,
   "id": "a62769d7",
   "metadata": {},
   "outputs": [],
   "source": [
    "dataframe['ZONA'].unique()"
   ]
  },
  {
   "cell_type": "code",
   "execution_count": null,
   "id": "65b7cf51",
   "metadata": {},
   "outputs": [],
   "source": [
    "agregar_zona =(\"INSERT INTO zona \"\"(id,nombre)\"\" VALUES (%s,%s)\")"
   ]
  },
  {
   "cell_type": "code",
   "execution_count": null,
   "id": "64887e68",
   "metadata": {},
   "outputs": [],
   "source": [
    "print(agregar_zona)"
   ]
  },
  {
   "cell_type": "markdown",
   "id": "b32413e3",
   "metadata": {},
   "source": [
    "#### Creamos buffer para la conexión con la base de datos"
   ]
  },
  {
   "cell_type": "code",
   "execution_count": null,
   "id": "b243777c",
   "metadata": {},
   "outputs": [],
   "source": [
    "buffer = conexion.cursor(buffered=True)"
   ]
  },
  {
   "cell_type": "code",
   "execution_count": null,
   "id": "097aea9e",
   "metadata": {},
   "outputs": [],
   "source": [
    "idzona=1\n",
    "for zona in dataframe['ZONA'].unique():\n",
    "    print(idzona,zona)\n",
    "    idzona+=1"
   ]
  },
  {
   "cell_type": "code",
   "execution_count": null,
   "id": "c8660c3d",
   "metadata": {},
   "outputs": [],
   "source": [
    "idzona=1\n",
    "for zona in dataframe['ZONA'].unique():\n",
    "    value_insert=(idzona,zona)\n",
    "    print(value_insert)\n",
    "    buffer.execute(agregar_zona,value_insert)\n",
    "    idzona+=1;\n"
   ]
  },
  {
   "cell_type": "code",
   "execution_count": null,
   "id": "eda42c99",
   "metadata": {},
   "outputs": [],
   "source": [
    "conexion.commit()\n",
    "buffer.close()\n",
    "conexion.close()"
   ]
  },
  {
   "cell_type": "code",
   "execution_count": null,
   "id": "ff6cb80d",
   "metadata": {},
   "outputs": [],
   "source": []
  },
  {
   "cell_type": "code",
   "execution_count": null,
   "id": "ea9ca482",
   "metadata": {},
   "outputs": [],
   "source": []
  },
  {
   "cell_type": "code",
   "execution_count": null,
   "id": "a7592dc4",
   "metadata": {},
   "outputs": [],
   "source": []
  }
 ],
 "metadata": {
  "kernelspec": {
   "display_name": "Python 3 (ipykernel)",
   "language": "python",
   "name": "python3"
  },
  "language_info": {
   "codemirror_mode": {
    "name": "ipython",
    "version": 3
   },
   "file_extension": ".py",
   "mimetype": "text/x-python",
   "name": "python",
   "nbconvert_exporter": "python",
   "pygments_lexer": "ipython3",
   "version": "3.9.12"
  }
 },
 "nbformat": 4,
 "nbformat_minor": 5
}
